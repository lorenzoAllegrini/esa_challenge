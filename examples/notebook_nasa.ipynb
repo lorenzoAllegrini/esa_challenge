{
 "cells": [
  {
   "cell_type": "code",
   "execution_count": 1,
   "metadata": {},
   "outputs": [],
   "source": [
    "from spaceai.data import NASA\n",
    "from spaceai.benchmark import NASABenchmark\n",
    "from spaceai.models.anomaly import Telemanom\n",
    "from spaceai.models.predictors import LSTM\n",
    "\n",
    "import numpy as np\n",
    "from torch import nn\n",
    "from torch import optim"
   ]
  },
  {
   "cell_type": "code",
   "execution_count": 2,
   "metadata": {},
   "outputs": [],
   "source": [
    "nasa_channel = NASA(\"./datasets\", NASA.channel_ids[0], mode=\"anomaly\", train=False)\n",
    "low_perc, high_perc = np.percentile(nasa_channel.data, [5, 95])\n",
    "volatility = np.std(nasa_channel.data)\n",
    "\n",
    "detector = Telemanom(low_perc, high_perc, volatility)\n",
    "predictor = LSTM(1, [80, 80], 1, 0.3)\n",
    "predictor.build()\n",
    "\n",
    "benchmark = NASABenchmark(\n",
    "    \"prova\",\n",
    "    \"experiments\",\n",
    "    250,\n",
    "    \"./datasets\"\n",
    ")"
   ]
  },
  {
   "cell_type": "code",
   "execution_count": 3,
   "metadata": {},
   "outputs": [
    {
     "name": "stdout",
     "output_type": "stream",
     "text": [
      "Restoring predictor for channel A-1...\n",
      "Scores are [0. 0. 0. ... 0. 0. 0.] []\n",
      "Shapes are (8110,) (8110,)\n",
      "True sequences: [[4190, 4191, 4192, 4193, 4194, 4195, 4196, 4197, 4198, 4199, 4200, 4201, 4202, 4203, 4204, 4205, 4206, 4207, 4208, 4209, 4210, 4211, 4212, 4213, 4214, 4215, 4216, 4217, 4218, 4219, 4220, 4221, 4222, 4223, 4224, 4225, 4226, 4227, 4228, 4229, 4230, 4231, 4232, 4233, 4234, 4235, 4236, 4237, 4238, 4239, 4240, 4241, 4242, 4243, 4244, 4245, 4246, 4247, 4248, 4249, 4250, 4251, 4252, 4253, 4254, 4255, 4256, 4257, 4258, 4259, 4260, 4261, 4262, 4263, 4264, 4265, 4266, 4267, 4268, 4269, 4270, 4271, 4272, 4273, 4274]] Predicted sequences: []\n",
      "None\n"
     ]
    }
   ],
   "source": [
    "for channel_id in NASA.channel_ids:\n",
    "    benchmark.run(\n",
    "        channel_id,\n",
    "        predictor,\n",
    "        detector,\n",
    "        fit_predictor_args=dict(\n",
    "            criterion=nn.MSELoss(),\n",
    "            optimizer=optim.Adam(predictor.model.parameters(), lr=0.001),\n",
    "            epochs=35,\n",
    "            patience_before_stopping=10,\n",
    "            min_delta=0.0003,\n",
    "            batch_size=64,\n",
    "        ),\n",
    "    )"
   ]
  },
  {
   "cell_type": "code",
   "execution_count": null,
   "metadata": {},
   "outputs": [],
   "source": []
  }
 ],
 "metadata": {
  "kernelspec": {
   "display_name": "spaceai",
   "language": "python",
   "name": "python3"
  },
  "language_info": {
   "codemirror_mode": {
    "name": "ipython",
    "version": 3
   },
   "file_extension": ".py",
   "mimetype": "text/x-python",
   "name": "python",
   "nbconvert_exporter": "python",
   "pygments_lexer": "ipython3",
   "version": "3.11.9"
  }
 },
 "nbformat": 4,
 "nbformat_minor": 2
}
